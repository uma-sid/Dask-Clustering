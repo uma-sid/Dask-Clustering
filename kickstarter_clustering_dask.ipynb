{
 "cells": [
  {
   "cell_type": "markdown",
   "metadata": {},
   "source": [
    "# Dask Implementation for doing the K-means clustering."
   ]
  },
  {
   "cell_type": "markdown",
   "metadata": {},
   "source": [
    "## Installing and importing the necessary libraries."
   ]
  },
  {
   "cell_type": "code",
   "execution_count": 9,
   "metadata": {
    "execution": {
     "iopub.execute_input": "2022-04-13T21:56:38.516364Z",
     "iopub.status.busy": "2022-04-13T21:56:38.515930Z",
     "iopub.status.idle": "2022-04-13T21:56:38.533432Z",
     "shell.execute_reply": "2022-04-13T21:56:38.532079Z",
     "shell.execute_reply.started": "2022-04-13T21:56:38.516244Z"
    }
   },
   "outputs": [],
   "source": [
    "# Installing the libraries if not done already\n",
    "# pip install \"dask[complete]\" \n",
    "# OR\n",
    "# conda install \"dask[complete]\""
   ]
  },
  {
   "cell_type": "code",
   "execution_count": 10,
   "metadata": {},
   "outputs": [
    {
     "name": "stdout",
     "output_type": "stream",
     "text": [
      "Requirement already satisfied: dask_ml in /Users/umasid/opt/anaconda3/lib/python3.8/site-packages (1.9.0)\n",
      "Requirement already satisfied: packaging in /Users/umasid/opt/anaconda3/lib/python3.8/site-packages (from dask_ml) (20.9)\n",
      "Requirement already satisfied: numba>=0.51.0 in /Users/umasid/opt/anaconda3/lib/python3.8/site-packages (from dask_ml) (0.53.1)\n",
      "Requirement already satisfied: dask-glm>=0.2.0 in /Users/umasid/opt/anaconda3/lib/python3.8/site-packages (from dask_ml) (0.2.0)\n",
      "Requirement already satisfied: multipledispatch>=0.4.9 in /Users/umasid/opt/anaconda3/lib/python3.8/site-packages (from dask_ml) (0.6.0)\n",
      "Requirement already satisfied: scikit-learn>=0.23 in /Users/umasid/opt/anaconda3/lib/python3.8/site-packages (from dask_ml) (0.24.1)\n",
      "Requirement already satisfied: scipy in /Users/umasid/opt/anaconda3/lib/python3.8/site-packages (from dask_ml) (1.6.2)\n",
      "Requirement already satisfied: numpy>=1.17.3 in /Users/umasid/opt/anaconda3/lib/python3.8/site-packages (from dask_ml) (1.20.1)\n",
      "Requirement already satisfied: dask[array,dataframe]>=2.4.0 in /Users/umasid/opt/anaconda3/lib/python3.8/site-packages (from dask_ml) (2021.4.0)\n",
      "Requirement already satisfied: pandas>=0.24.2 in /Users/umasid/opt/anaconda3/lib/python3.8/site-packages (from dask_ml) (1.2.4)\n",
      "Requirement already satisfied: distributed>=2.4.0 in /Users/umasid/opt/anaconda3/lib/python3.8/site-packages (from dask_ml) (2021.4.0)\n",
      "Requirement already satisfied: cloudpickle>=0.2.2 in /Users/umasid/opt/anaconda3/lib/python3.8/site-packages (from dask-glm>=0.2.0->dask_ml) (1.6.0)\n",
      "Requirement already satisfied: pyyaml in /Users/umasid/opt/anaconda3/lib/python3.8/site-packages (from dask[array,dataframe]>=2.4.0->dask_ml) (5.4.1)\n",
      "Requirement already satisfied: toolz>=0.8.2 in /Users/umasid/opt/anaconda3/lib/python3.8/site-packages (from dask[array,dataframe]>=2.4.0->dask_ml) (0.11.1)\n",
      "Requirement already satisfied: fsspec>=0.6.0 in /Users/umasid/opt/anaconda3/lib/python3.8/site-packages (from dask[array,dataframe]>=2.4.0->dask_ml) (0.9.0)\n",
      "Requirement already satisfied: partd>=0.3.10 in /Users/umasid/opt/anaconda3/lib/python3.8/site-packages (from dask[array,dataframe]>=2.4.0->dask_ml) (1.2.0)\n",
      "Requirement already satisfied: setuptools in /Users/umasid/opt/anaconda3/lib/python3.8/site-packages (from distributed>=2.4.0->dask_ml) (52.0.0.post20210125)\n",
      "Requirement already satisfied: psutil>=5.0 in /Users/umasid/opt/anaconda3/lib/python3.8/site-packages (from distributed>=2.4.0->dask_ml) (5.8.0)\n",
      "Requirement already satisfied: sortedcontainers!=2.0.0,!=2.0.1 in /Users/umasid/opt/anaconda3/lib/python3.8/site-packages (from distributed>=2.4.0->dask_ml) (2.3.0)\n",
      "Requirement already satisfied: zict>=0.1.3 in /Users/umasid/opt/anaconda3/lib/python3.8/site-packages (from distributed>=2.4.0->dask_ml) (2.0.0)\n",
      "Requirement already satisfied: click>=6.6 in /Users/umasid/opt/anaconda3/lib/python3.8/site-packages (from distributed>=2.4.0->dask_ml) (7.1.2)\n",
      "Requirement already satisfied: tblib>=1.6.0 in /Users/umasid/opt/anaconda3/lib/python3.8/site-packages (from distributed>=2.4.0->dask_ml) (1.7.0)\n",
      "Requirement already satisfied: tornado>=6.0.3 in /Users/umasid/opt/anaconda3/lib/python3.8/site-packages (from distributed>=2.4.0->dask_ml) (6.1)\n",
      "Requirement already satisfied: msgpack>=0.6.0 in /Users/umasid/opt/anaconda3/lib/python3.8/site-packages (from distributed>=2.4.0->dask_ml) (1.0.2)\n",
      "Requirement already satisfied: six in /Users/umasid/opt/anaconda3/lib/python3.8/site-packages (from multipledispatch>=0.4.9->dask_ml) (1.15.0)\n",
      "Requirement already satisfied: llvmlite<0.37,>=0.36.0rc1 in /Users/umasid/opt/anaconda3/lib/python3.8/site-packages (from numba>=0.51.0->dask_ml) (0.36.0)\n",
      "Requirement already satisfied: python-dateutil>=2.7.3 in /Users/umasid/opt/anaconda3/lib/python3.8/site-packages (from pandas>=0.24.2->dask_ml) (2.8.1)\n",
      "Requirement already satisfied: pytz>=2017.3 in /Users/umasid/opt/anaconda3/lib/python3.8/site-packages (from pandas>=0.24.2->dask_ml) (2021.1)\n",
      "Requirement already satisfied: locket in /Users/umasid/opt/anaconda3/lib/python3.8/site-packages/locket-0.2.1-py3.8.egg (from partd>=0.3.10->dask[array,dataframe]>=2.4.0->dask_ml) (0.2.1)\n",
      "Requirement already satisfied: threadpoolctl>=2.0.0 in /Users/umasid/opt/anaconda3/lib/python3.8/site-packages (from scikit-learn>=0.23->dask_ml) (2.1.0)\n",
      "Requirement already satisfied: joblib>=0.11 in /Users/umasid/opt/anaconda3/lib/python3.8/site-packages (from scikit-learn>=0.23->dask_ml) (1.0.1)\n",
      "Requirement already satisfied: heapdict in /Users/umasid/opt/anaconda3/lib/python3.8/site-packages (from zict>=0.1.3->distributed>=2.4.0->dask_ml) (1.0.1)\n",
      "Requirement already satisfied: pyparsing>=2.0.2 in /Users/umasid/opt/anaconda3/lib/python3.8/site-packages (from packaging->dask_ml) (2.4.7)\n",
      "Note: you may need to restart the kernel to use updated packages.\n"
     ]
    }
   ],
   "source": [
    "pip install dask_ml"
   ]
  },
  {
   "cell_type": "code",
   "execution_count": 11,
   "metadata": {
    "execution": {
     "iopub.execute_input": "2022-04-13T21:57:48.001692Z",
     "iopub.status.busy": "2022-04-13T21:57:48.001220Z",
     "iopub.status.idle": "2022-04-13T21:57:48.009777Z",
     "shell.execute_reply": "2022-04-13T21:57:48.008694Z",
     "shell.execute_reply.started": "2022-04-13T21:57:48.001645Z"
    }
   },
   "outputs": [],
   "source": [
    "# Importing the necessary libraries\n",
    "import matplotlib.pyplot as plt \n",
    "import dask.dataframe as dd \n",
    "import dask.array as da \n",
    "import pandas as pd\n",
    "from dask_ml.cluster import KMeans\n",
    "\n",
    "# for finding the number of cores.\n",
    "import multiprocessing\n",
    "\n",
    "# for setting up the local cluster\n",
    "from dask.distributed import Client, LocalCluster\n",
    "import psutil\n",
    "\n",
    "# For scaling the data\n",
    "from sklearn.preprocessing import StandardScaler\n"
   ]
  },
  {
   "cell_type": "code",
   "execution_count": 12,
   "metadata": {
    "execution": {
     "iopub.execute_input": "2022-04-13T21:57:54.379012Z",
     "iopub.status.busy": "2022-04-13T21:57:54.378444Z",
     "iopub.status.idle": "2022-04-13T21:57:54.384475Z",
     "shell.execute_reply": "2022-04-13T21:57:54.383650Z",
     "shell.execute_reply.started": "2022-04-13T21:57:54.378944Z"
    }
   },
   "outputs": [
    {
     "name": "stdout",
     "output_type": "stream",
     "text": [
      "8\n"
     ]
    }
   ],
   "source": [
    "#finding the number of cores\n",
    "print(multiprocessing.cpu_count())"
   ]
  },
  {
   "cell_type": "markdown",
   "metadata": {},
   "source": [
    "## Finding the system memory information"
   ]
  },
  {
   "cell_type": "code",
   "execution_count": 13,
   "metadata": {
    "execution": {
     "iopub.execute_input": "2022-04-13T21:57:56.471656Z",
     "iopub.status.busy": "2022-04-13T21:57:56.471066Z",
     "iopub.status.idle": "2022-04-13T21:57:56.482080Z",
     "shell.execute_reply": "2022-04-13T21:57:56.480869Z",
     "shell.execute_reply.started": "2022-04-13T21:57:56.471594Z"
    }
   },
   "outputs": [
    {
     "name": "stdout",
     "output_type": "stream",
     "text": [
      "Total RAM installed: 17.18 GB\n",
      "Available RAM: 1.24 GB\n",
      "Used RAM: 1.4 GB\n",
      "RAM usage: 92.8 %\n"
     ]
    }
   ],
   "source": [
    "#Total RAM\n",
    "print(f\"Total RAM installed: {round(psutil.virtual_memory().total/1000000000, 2)} GB\")\n",
    "#Available RAM\n",
    "print(f\"Available RAM: {round(psutil.virtual_memory().available/1000000000, 2)} GB\")\n",
    "#Used RAM\n",
    "print(f\"Used RAM: {round(psutil.virtual_memory().used/1000000000, 2)} GB\")\n",
    "#RAM usage\n",
    "print(f\"RAM usage: {psutil.virtual_memory().percent} %\")"
   ]
  },
  {
   "cell_type": "markdown",
   "metadata": {},
   "source": [
    "## Cluster Configuring"
   ]
  },
  {
   "cell_type": "markdown",
   "metadata": {},
   "source": [
    "We will now configure the cluster"
   ]
  },
  {
   "cell_type": "code",
   "execution_count": 14,
   "metadata": {
    "execution": {
     "iopub.execute_input": "2022-04-13T21:58:25.227610Z",
     "iopub.status.busy": "2022-04-13T21:58:25.226902Z",
     "iopub.status.idle": "2022-04-13T21:58:27.035701Z",
     "shell.execute_reply": "2022-04-13T21:58:27.034839Z",
     "shell.execute_reply.started": "2022-04-13T21:58:25.227565Z"
    }
   },
   "outputs": [
    {
     "data": {
      "text/html": [
       "<table style=\"border: 2px solid white;\">\n",
       "<tr>\n",
       "<td style=\"vertical-align: top; border: 0px solid white\">\n",
       "<h3 style=\"text-align: left;\">Client</h3>\n",
       "<ul style=\"text-align: left; list-style: none; margin: 0; padding: 0;\">\n",
       "  <li><b>Scheduler: </b>tcp://127.0.0.1:57215</li>\n",
       "  <li><b>Dashboard: </b><a href='http://127.0.0.1:8787/status' target='_blank'>http://127.0.0.1:8787/status</a></li>\n",
       "</ul>\n",
       "</td>\n",
       "<td style=\"vertical-align: top; border: 0px solid white\">\n",
       "<h3 style=\"text-align: left;\">Cluster</h3>\n",
       "<ul style=\"text-align: left; list-style:none; margin: 0; padding: 0;\">\n",
       "  <li><b>Workers: </b>1</li>\n",
       "  <li><b>Cores: </b>8</li>\n",
       "  <li><b>Memory: </b>1.86 GiB</li>\n",
       "</ul>\n",
       "</td>\n",
       "</tr>\n",
       "</table>"
      ],
      "text/plain": [
       "<Client: 'tcp://127.0.0.1:57215' processes=1 threads=8, memory=1.86 GiB>"
      ]
     },
     "execution_count": 14,
     "metadata": {},
     "output_type": "execute_result"
    }
   ],
   "source": [
    "# Cluster Configuration\n",
    "cluster = LocalCluster(n_workers=1, threads_per_worker=8, memory_limit = '2GB')\n",
    "# explicitly connect to the cluster we just created\n",
    "client = Client(cluster)\n",
    "# Viewing the client and the cluster\n",
    "client"
   ]
  },
  {
   "cell_type": "markdown",
   "metadata": {},
   "source": [
    "## Loading the dataset"
   ]
  },
  {
   "cell_type": "code",
   "execution_count": 15,
   "metadata": {
    "execution": {
     "iopub.execute_input": "2022-04-13T22:06:30.857804Z",
     "iopub.status.busy": "2022-04-13T22:06:30.857442Z",
     "iopub.status.idle": "2022-04-13T22:06:32.033850Z",
     "shell.execute_reply": "2022-04-13T22:06:32.032503Z",
     "shell.execute_reply.started": "2022-04-13T22:06:30.857767Z"
    }
   },
   "outputs": [
    {
     "data": {
      "text/html": [
       "<div>\n",
       "<style scoped>\n",
       "    .dataframe tbody tr th:only-of-type {\n",
       "        vertical-align: middle;\n",
       "    }\n",
       "\n",
       "    .dataframe tbody tr th {\n",
       "        vertical-align: top;\n",
       "    }\n",
       "\n",
       "    .dataframe thead th {\n",
       "        text-align: right;\n",
       "    }\n",
       "</style>\n",
       "<table border=\"1\" class=\"dataframe\">\n",
       "  <thead>\n",
       "    <tr style=\"text-align: right;\">\n",
       "      <th></th>\n",
       "      <th>Unnamed: 0</th>\n",
       "      <th>category</th>\n",
       "      <th>main_category</th>\n",
       "      <th>currency</th>\n",
       "      <th>deadline</th>\n",
       "      <th>launched</th>\n",
       "      <th>state</th>\n",
       "      <th>backers</th>\n",
       "      <th>country</th>\n",
       "      <th>usd_pledged</th>\n",
       "      <th>usd_goal</th>\n",
       "      <th>launch_gap</th>\n",
       "    </tr>\n",
       "  </thead>\n",
       "  <tbody>\n",
       "    <tr>\n",
       "      <th>0</th>\n",
       "      <td>1</td>\n",
       "      <td>Poetry</td>\n",
       "      <td>Publishing</td>\n",
       "      <td>GBP</td>\n",
       "      <td>2015-10-09</td>\n",
       "      <td>2015-08-11</td>\n",
       "      <td>failed</td>\n",
       "      <td>0</td>\n",
       "      <td>GB</td>\n",
       "      <td>0.0</td>\n",
       "      <td>1533.95</td>\n",
       "      <td>59</td>\n",
       "    </tr>\n",
       "    <tr>\n",
       "      <th>1</th>\n",
       "      <td>2</td>\n",
       "      <td>Narrative Film</td>\n",
       "      <td>Film &amp; Video</td>\n",
       "      <td>USD</td>\n",
       "      <td>2017-11-01</td>\n",
       "      <td>2017-09-02</td>\n",
       "      <td>failed</td>\n",
       "      <td>15</td>\n",
       "      <td>US</td>\n",
       "      <td>2421.0</td>\n",
       "      <td>30000.00</td>\n",
       "      <td>60</td>\n",
       "    </tr>\n",
       "    <tr>\n",
       "      <th>2</th>\n",
       "      <td>4</td>\n",
       "      <td>Music</td>\n",
       "      <td>Music</td>\n",
       "      <td>USD</td>\n",
       "      <td>2012-04-16</td>\n",
       "      <td>2012-03-17</td>\n",
       "      <td>failed</td>\n",
       "      <td>1</td>\n",
       "      <td>US</td>\n",
       "      <td>1.0</td>\n",
       "      <td>5000.00</td>\n",
       "      <td>30</td>\n",
       "    </tr>\n",
       "    <tr>\n",
       "      <th>3</th>\n",
       "      <td>5</td>\n",
       "      <td>Film &amp; Video</td>\n",
       "      <td>Film &amp; Video</td>\n",
       "      <td>USD</td>\n",
       "      <td>2015-08-29</td>\n",
       "      <td>2015-07-04</td>\n",
       "      <td>canceled</td>\n",
       "      <td>14</td>\n",
       "      <td>US</td>\n",
       "      <td>1283.0</td>\n",
       "      <td>19500.00</td>\n",
       "      <td>56</td>\n",
       "    </tr>\n",
       "    <tr>\n",
       "      <th>4</th>\n",
       "      <td>7</td>\n",
       "      <td>Food</td>\n",
       "      <td>Food</td>\n",
       "      <td>USD</td>\n",
       "      <td>2014-12-21</td>\n",
       "      <td>2014-12-01</td>\n",
       "      <td>successful</td>\n",
       "      <td>16</td>\n",
       "      <td>US</td>\n",
       "      <td>1205.0</td>\n",
       "      <td>1000.00</td>\n",
       "      <td>20</td>\n",
       "    </tr>\n",
       "  </tbody>\n",
       "</table>\n",
       "</div>"
      ],
      "text/plain": [
       "   Unnamed: 0        category main_category currency    deadline    launched  \\\n",
       "0           1          Poetry    Publishing      GBP  2015-10-09  2015-08-11   \n",
       "1           2  Narrative Film  Film & Video      USD  2017-11-01  2017-09-02   \n",
       "2           4           Music         Music      USD  2012-04-16  2012-03-17   \n",
       "3           5    Film & Video  Film & Video      USD  2015-08-29  2015-07-04   \n",
       "4           7            Food          Food      USD  2014-12-21  2014-12-01   \n",
       "\n",
       "        state  backers country  usd_pledged  usd_goal  launch_gap  \n",
       "0      failed        0      GB          0.0   1533.95          59  \n",
       "1      failed       15      US       2421.0  30000.00          60  \n",
       "2      failed        1      US          1.0   5000.00          30  \n",
       "3    canceled       14      US       1283.0  19500.00          56  \n",
       "4  successful       16      US       1205.0   1000.00          20  "
      ]
     },
     "execution_count": 15,
     "metadata": {},
     "output_type": "execute_result"
    }
   ],
   "source": [
    "# Load the dataset in to dask dataframe\n",
    "ks2018 = dd.read_csv('/Users/umasid/My_Workspace/Dask Project/dataClean.csv', dtype={'usd_pledged': 'float64'}) \n",
    "# ks2018 = dd.read_csv('/Users/umasid/Uni/CS5811 - Distributed Data Analysis/Kickstarter project Data/dataClean.csv') \n",
    "ks2018.head()"
   ]
  },
  {
   "cell_type": "markdown",
   "metadata": {},
   "source": [
    "## Creating a dataframe with numerical columns."
   ]
  },
  {
   "cell_type": "code",
   "execution_count": 16,
   "metadata": {
    "execution": {
     "iopub.execute_input": "2022-04-13T22:06:34.693603Z",
     "iopub.status.busy": "2022-04-13T22:06:34.693256Z",
     "iopub.status.idle": "2022-04-13T22:06:35.408973Z",
     "shell.execute_reply": "2022-04-13T22:06:35.407654Z",
     "shell.execute_reply.started": "2022-04-13T22:06:34.693555Z"
    }
   },
   "outputs": [
    {
     "data": {
      "text/html": [
       "<div>\n",
       "<style scoped>\n",
       "    .dataframe tbody tr th:only-of-type {\n",
       "        vertical-align: middle;\n",
       "    }\n",
       "\n",
       "    .dataframe tbody tr th {\n",
       "        vertical-align: top;\n",
       "    }\n",
       "\n",
       "    .dataframe thead th {\n",
       "        text-align: right;\n",
       "    }\n",
       "</style>\n",
       "<table border=\"1\" class=\"dataframe\">\n",
       "  <thead>\n",
       "    <tr style=\"text-align: right;\">\n",
       "      <th></th>\n",
       "      <th>backers</th>\n",
       "      <th>usd_pledged</th>\n",
       "      <th>usd_goal</th>\n",
       "      <th>launch_gap</th>\n",
       "    </tr>\n",
       "  </thead>\n",
       "  <tbody>\n",
       "    <tr>\n",
       "      <th>0</th>\n",
       "      <td>0</td>\n",
       "      <td>0.0</td>\n",
       "      <td>1533.95</td>\n",
       "      <td>59</td>\n",
       "    </tr>\n",
       "    <tr>\n",
       "      <th>1</th>\n",
       "      <td>15</td>\n",
       "      <td>2421.0</td>\n",
       "      <td>30000.00</td>\n",
       "      <td>60</td>\n",
       "    </tr>\n",
       "    <tr>\n",
       "      <th>2</th>\n",
       "      <td>1</td>\n",
       "      <td>1.0</td>\n",
       "      <td>5000.00</td>\n",
       "      <td>30</td>\n",
       "    </tr>\n",
       "    <tr>\n",
       "      <th>3</th>\n",
       "      <td>14</td>\n",
       "      <td>1283.0</td>\n",
       "      <td>19500.00</td>\n",
       "      <td>56</td>\n",
       "    </tr>\n",
       "    <tr>\n",
       "      <th>4</th>\n",
       "      <td>16</td>\n",
       "      <td>1205.0</td>\n",
       "      <td>1000.00</td>\n",
       "      <td>20</td>\n",
       "    </tr>\n",
       "  </tbody>\n",
       "</table>\n",
       "</div>"
      ],
      "text/plain": [
       "   backers  usd_pledged  usd_goal  launch_gap\n",
       "0        0          0.0   1533.95          59\n",
       "1       15       2421.0  30000.00          60\n",
       "2        1          1.0   5000.00          30\n",
       "3       14       1283.0  19500.00          56\n",
       "4       16       1205.0   1000.00          20"
      ]
     },
     "execution_count": 16,
     "metadata": {},
     "output_type": "execute_result"
    }
   ],
   "source": [
    "# Subsetting the main dataframe in to a new dataframe with only numerical columns.\n",
    "ks2018_numeric = ks2018[['backers', 'usd_pledged', 'usd_goal','launch_gap']] \n",
    "ks2018_numeric.head()"
   ]
  },
  {
   "cell_type": "markdown",
   "metadata": {},
   "source": [
    "## Scaling the data"
   ]
  },
  {
   "cell_type": "markdown",
   "metadata": {},
   "source": [
    "As the data in the numerical columns is in different ranges, we need to scale the data."
   ]
  },
  {
   "cell_type": "code",
   "execution_count": 17,
   "metadata": {
    "execution": {
     "iopub.execute_input": "2022-04-13T22:06:37.682351Z",
     "iopub.status.busy": "2022-04-13T22:06:37.682041Z",
     "iopub.status.idle": "2022-04-13T22:06:39.955718Z",
     "shell.execute_reply": "2022-04-13T22:06:39.954688Z",
     "shell.execute_reply.started": "2022-04-13T22:06:37.682320Z"
    }
   },
   "outputs": [
    {
     "name": "stdout",
     "output_type": "stream",
     "text": [
      "[[-0.75072897 -0.57714394 -0.71073197  1.93072952]\n",
      " [-0.28204694  0.20032083  3.18416549  2.00713748]\n",
      " [-0.7194835  -0.57682281 -0.23648601 -0.28510118]\n",
      " ...\n",
      " [-0.7194835  -0.57072127  1.13177459  0.9374261 ]\n",
      " [-0.56325616 -0.5129172   1.13177459 -0.20869323]\n",
      " [-0.219556   -0.40886987 -0.64696419 -0.43791709]]\n"
     ]
    }
   ],
   "source": [
    "# Scaling the data.\n",
    "scaler = StandardScaler()\n",
    "ks2018_numeric_scaled = scaler.fit_transform(ks2018_numeric)\n",
    "\n",
    "# statistics of scaled data\n",
    "print(ks2018_numeric_scaled)"
   ]
  },
  {
   "cell_type": "markdown",
   "metadata": {},
   "source": [
    "## Clustering using k-means"
   ]
  },
  {
   "cell_type": "code",
   "execution_count": 18,
   "metadata": {
    "execution": {
     "iopub.execute_input": "2022-04-13T22:06:42.127139Z",
     "iopub.status.busy": "2022-04-13T22:06:42.126773Z",
     "iopub.status.idle": "2022-04-13T22:06:42.132751Z",
     "shell.execute_reply": "2022-04-13T22:06:42.131748Z",
     "shell.execute_reply.started": "2022-04-13T22:06:42.127102Z"
    }
   },
   "outputs": [],
   "source": [
    "# creating kmeans object with number of clusters as 2\n",
    "km = KMeans(n_clusters = 2, init='k-means++')"
   ]
  },
  {
   "cell_type": "code",
   "execution_count": 19,
   "metadata": {
    "execution": {
     "iopub.execute_input": "2022-04-13T22:06:45.074325Z",
     "iopub.status.busy": "2022-04-13T22:06:45.073421Z",
     "iopub.status.idle": "2022-04-13T22:06:50.368897Z",
     "shell.execute_reply": "2022-04-13T22:06:50.367697Z",
     "shell.execute_reply.started": "2022-04-13T22:06:45.074273Z"
    }
   },
   "outputs": [
    {
     "data": {
      "text/plain": [
       "KMeans(init='k-means++', n_clusters=2)"
      ]
     },
     "execution_count": 19,
     "metadata": {},
     "output_type": "execute_result"
    }
   ],
   "source": [
    "# Fitting the dataframe\n",
    "km.fit(ks2018_numeric_scaled)"
   ]
  },
  {
   "cell_type": "code",
   "execution_count": 20,
   "metadata": {
    "execution": {
     "iopub.execute_input": "2022-04-13T22:06:52.739809Z",
     "iopub.status.busy": "2022-04-13T22:06:52.739417Z",
     "iopub.status.idle": "2022-04-13T22:06:52.747742Z",
     "shell.execute_reply": "2022-04-13T22:06:52.747044Z",
     "shell.execute_reply.started": "2022-04-13T22:06:52.739771Z"
    }
   },
   "outputs": [
    {
     "data": {
      "text/plain": [
       "407371.6167378476"
      ]
     },
     "execution_count": 20,
     "metadata": {},
     "output_type": "execute_result"
    }
   ],
   "source": [
    "# inertia on the fitted data\n",
    "km.inertia_"
   ]
  },
  {
   "cell_type": "markdown",
   "metadata": {},
   "source": [
    "## Trying different number of clusters."
   ]
  },
  {
   "cell_type": "code",
   "execution_count": 21,
   "metadata": {
    "execution": {
     "iopub.execute_input": "2022-04-13T22:16:44.482438Z",
     "iopub.status.busy": "2022-04-13T22:16:44.481986Z",
     "iopub.status.idle": "2022-04-13T22:17:01.752862Z",
     "shell.execute_reply": "2022-04-13T22:17:01.750779Z",
     "shell.execute_reply.started": "2022-04-13T22:16:44.482391Z"
    }
   },
   "outputs": [],
   "source": [
    "# fitting multiple k-means algorithms and storing the values in an empty list\n",
    "SSE = []\n",
    "for clusters in range(2,7):\n",
    "    kmeans = KMeans(n_jobs = -1, n_clusters = clusters,init_max_iter = 100, init='k-means++')\n",
    "    kmeans.fit(ks2018_numeric_scaled)\n",
    "    SSE.append(kmeans.inertia_)\n",
    "\n"
   ]
  },
  {
   "cell_type": "markdown",
   "metadata": {},
   "source": [
    "## Plotting the results"
   ]
  },
  {
   "cell_type": "code",
   "execution_count": 22,
   "metadata": {
    "execution": {
     "iopub.execute_input": "2022-04-13T22:17:25.499542Z",
     "iopub.status.busy": "2022-04-13T22:17:25.499141Z",
     "iopub.status.idle": "2022-04-13T22:17:25.805073Z",
     "shell.execute_reply": "2022-04-13T22:17:25.803630Z",
     "shell.execute_reply.started": "2022-04-13T22:17:25.499485Z"
    }
   },
   "outputs": [
    {
     "data": {
      "text/plain": [
       "Text(0, 0.5, 'Inertia')"
      ]
     },
     "execution_count": 22,
     "metadata": {},
     "output_type": "execute_result"
    },
    {
     "data": {
      "image/png": "[encoded data removed]",
      "text/plain": [
       "<Figure size 864x432 with 1 Axes>"
      ]
     },
     "metadata": {
      "needs_background": "light"
     },
     "output_type": "display_data"
    }
   ],
   "source": [
    "# converting the results into a dataframe and plotting them\n",
    "\n",
    "frame = pd.DataFrame({'Cluster':range(2,7), 'SSE':SSE})\n",
    "plt.figure(figsize=(12,6))\n",
    "plt.plot(frame['Cluster'], frame['SSE'], marker='o')\n",
    "plt.xlabel('Number of clusters')\n",
    "plt.ylabel('Inertia')"
   ]
  },
  {
   "cell_type": "markdown",
   "metadata": {},
   "source": [
    "## Clustering with the observed best number of clusters"
   ]
  },
  {
   "cell_type": "code",
   "execution_count": 23,
   "metadata": {
    "execution": {
     "iopub.execute_input": "2022-04-13T22:22:07.850288Z",
     "iopub.status.busy": "2022-04-13T22:22:07.849922Z",
     "iopub.status.idle": "2022-04-13T22:22:11.945425Z",
     "shell.execute_reply": "2022-04-13T22:22:11.943980Z",
     "shell.execute_reply.started": "2022-04-13T22:22:07.850253Z"
    }
   },
   "outputs": [],
   "source": [
    "# k means using 5 clusters and k-means++ initialization\n",
    "kmeans = KMeans(n_jobs = -1, n_clusters = 5, init='k-means++')\n",
    "kmeans.fit(ks2018_numeric_scaled)\n",
    "pred = kmeans.predict(ks2018_numeric_scaled)"
   ]
  },
  {
   "cell_type": "markdown",
   "metadata": {},
   "source": [
    "## Printing the counts of each cluster"
   ]
  },
  {
   "cell_type": "code",
   "execution_count": 24,
   "metadata": {
    "execution": {
     "iopub.execute_input": "2022-04-13T22:22:14.158559Z",
     "iopub.status.busy": "2022-04-13T22:22:14.158034Z",
     "iopub.status.idle": "2022-04-13T22:22:14.337505Z",
     "shell.execute_reply": "2022-04-13T22:22:14.336576Z",
     "shell.execute_reply.started": "2022-04-13T22:22:14.158478Z"
    }
   },
   "outputs": [
    {
     "data": {
      "text/plain": [
       "1    147350\n",
       "4     46654\n",
       "3     40668\n",
       "0     37296\n",
       "2     15675\n",
       "Name: cluster, dtype: int64"
      ]
     },
     "execution_count": 24,
     "metadata": {},
     "output_type": "execute_result"
    }
   ],
   "source": [
    "# find the valuecounts of each cluster.\n",
    "frame = pd.DataFrame(ks2018_numeric_scaled)\n",
    "frame['cluster'] = pred\n",
    "frame['cluster'].value_counts()"
   ]
  },
  {
   "cell_type": "code",
   "execution_count": 25,
   "metadata": {
    "execution": {
     "iopub.execute_input": "2022-04-13T22:24:39.206486Z",
     "iopub.status.busy": "2022-04-13T22:24:39.206142Z",
     "iopub.status.idle": "2022-04-13T22:24:40.357589Z",
     "shell.execute_reply": "2022-04-13T22:24:40.355682Z",
     "shell.execute_reply.started": "2022-04-13T22:24:39.206431Z"
    }
   },
   "outputs": [],
   "source": [
    "# Joining the dataframe with computed clusters.\n",
    "ks2018_clusters = ks2018.compute()\n",
    "ks2018_clusters['cluster'] = pred"
   ]
  },
  {
   "cell_type": "code",
   "execution_count": 26,
   "metadata": {
    "execution": {
     "iopub.execute_input": "2022-04-13T22:24:46.892460Z",
     "iopub.status.busy": "2022-04-13T22:24:46.892103Z",
     "iopub.status.idle": "2022-04-13T22:24:46.904901Z",
     "shell.execute_reply": "2022-04-13T22:24:46.904062Z",
     "shell.execute_reply.started": "2022-04-13T22:24:46.892425Z"
    }
   },
   "outputs": [
    {
     "data": {
      "text/plain": [
       "0         3\n",
       "1         0\n",
       "2         1\n",
       "3         0\n",
       "4         1\n",
       "         ..\n",
       "287638    3\n",
       "287639    1\n",
       "287640    0\n",
       "287641    0\n",
       "287642    1\n",
       "Name: cluster, Length: 287643, dtype: int32"
      ]
     },
     "execution_count": 26,
     "metadata": {},
     "output_type": "execute_result"
    }
   ],
   "source": [
    "# Looking at the cluster cloumn\n",
    "ks2018_clusters['cluster']"
   ]
  },
  {
   "cell_type": "code",
   "execution_count": 27,
   "metadata": {
    "execution": {
     "iopub.execute_input": "2022-04-13T22:28:01.848728Z",
     "iopub.status.busy": "2022-04-13T22:28:01.848343Z",
     "iopub.status.idle": "2022-04-13T22:28:01.878833Z",
     "shell.execute_reply": "2022-04-13T22:28:01.877662Z",
     "shell.execute_reply.started": "2022-04-13T22:28:01.848683Z"
    }
   },
   "outputs": [
    {
     "data": {
      "text/html": [
       "<div>\n",
       "<style scoped>\n",
       "    .dataframe tbody tr th:only-of-type {\n",
       "        vertical-align: middle;\n",
       "    }\n",
       "\n",
       "    .dataframe tbody tr th {\n",
       "        vertical-align: top;\n",
       "    }\n",
       "\n",
       "    .dataframe thead th {\n",
       "        text-align: right;\n",
       "    }\n",
       "</style>\n",
       "<table border=\"1\" class=\"dataframe\">\n",
       "  <thead>\n",
       "    <tr style=\"text-align: right;\">\n",
       "      <th></th>\n",
       "      <th>Unnamed: 0</th>\n",
       "      <th>category</th>\n",
       "      <th>main_category</th>\n",
       "      <th>currency</th>\n",
       "      <th>deadline</th>\n",
       "      <th>launched</th>\n",
       "      <th>state</th>\n",
       "      <th>backers</th>\n",
       "      <th>country</th>\n",
       "      <th>usd_pledged</th>\n",
       "      <th>usd_goal</th>\n",
       "      <th>launch_gap</th>\n",
       "      <th>cluster</th>\n",
       "    </tr>\n",
       "  </thead>\n",
       "  <tbody>\n",
       "    <tr>\n",
       "      <th>0</th>\n",
       "      <td>1</td>\n",
       "      <td>Poetry</td>\n",
       "      <td>Publishing</td>\n",
       "      <td>GBP</td>\n",
       "      <td>2015-10-09</td>\n",
       "      <td>2015-08-11</td>\n",
       "      <td>failed</td>\n",
       "      <td>0</td>\n",
       "      <td>GB</td>\n",
       "      <td>0.0</td>\n",
       "      <td>1533.95</td>\n",
       "      <td>59</td>\n",
       "      <td>3</td>\n",
       "    </tr>\n",
       "    <tr>\n",
       "      <th>1</th>\n",
       "      <td>2</td>\n",
       "      <td>Narrative Film</td>\n",
       "      <td>Film &amp; Video</td>\n",
       "      <td>USD</td>\n",
       "      <td>2017-11-01</td>\n",
       "      <td>2017-09-02</td>\n",
       "      <td>failed</td>\n",
       "      <td>15</td>\n",
       "      <td>US</td>\n",
       "      <td>2421.0</td>\n",
       "      <td>30000.00</td>\n",
       "      <td>60</td>\n",
       "      <td>0</td>\n",
       "    </tr>\n",
       "    <tr>\n",
       "      <th>2</th>\n",
       "      <td>4</td>\n",
       "      <td>Music</td>\n",
       "      <td>Music</td>\n",
       "      <td>USD</td>\n",
       "      <td>2012-04-16</td>\n",
       "      <td>2012-03-17</td>\n",
       "      <td>failed</td>\n",
       "      <td>1</td>\n",
       "      <td>US</td>\n",
       "      <td>1.0</td>\n",
       "      <td>5000.00</td>\n",
       "      <td>30</td>\n",
       "      <td>1</td>\n",
       "    </tr>\n",
       "    <tr>\n",
       "      <th>3</th>\n",
       "      <td>5</td>\n",
       "      <td>Film &amp; Video</td>\n",
       "      <td>Film &amp; Video</td>\n",
       "      <td>USD</td>\n",
       "      <td>2015-08-29</td>\n",
       "      <td>2015-07-04</td>\n",
       "      <td>canceled</td>\n",
       "      <td>14</td>\n",
       "      <td>US</td>\n",
       "      <td>1283.0</td>\n",
       "      <td>19500.00</td>\n",
       "      <td>56</td>\n",
       "      <td>0</td>\n",
       "    </tr>\n",
       "    <tr>\n",
       "      <th>4</th>\n",
       "      <td>7</td>\n",
       "      <td>Food</td>\n",
       "      <td>Food</td>\n",
       "      <td>USD</td>\n",
       "      <td>2014-12-21</td>\n",
       "      <td>2014-12-01</td>\n",
       "      <td>successful</td>\n",
       "      <td>16</td>\n",
       "      <td>US</td>\n",
       "      <td>1205.0</td>\n",
       "      <td>1000.00</td>\n",
       "      <td>20</td>\n",
       "      <td>1</td>\n",
       "    </tr>\n",
       "    <tr>\n",
       "      <th>...</th>\n",
       "      <td>...</td>\n",
       "      <td>...</td>\n",
       "      <td>...</td>\n",
       "      <td>...</td>\n",
       "      <td>...</td>\n",
       "      <td>...</td>\n",
       "      <td>...</td>\n",
       "      <td>...</td>\n",
       "      <td>...</td>\n",
       "      <td>...</td>\n",
       "      <td>...</td>\n",
       "      <td>...</td>\n",
       "      <td>...</td>\n",
       "    </tr>\n",
       "    <tr>\n",
       "      <th>287638</th>\n",
       "      <td>378656</td>\n",
       "      <td>Poetry</td>\n",
       "      <td>Publishing</td>\n",
       "      <td>CAD</td>\n",
       "      <td>2014-09-20</td>\n",
       "      <td>2014-08-06</td>\n",
       "      <td>canceled</td>\n",
       "      <td>0</td>\n",
       "      <td>CA</td>\n",
       "      <td>0.0</td>\n",
       "      <td>4949.60</td>\n",
       "      <td>45</td>\n",
       "      <td>3</td>\n",
       "    </tr>\n",
       "    <tr>\n",
       "      <th>287639</th>\n",
       "      <td>378658</td>\n",
       "      <td>Narrative Film</td>\n",
       "      <td>Film &amp; Video</td>\n",
       "      <td>USD</td>\n",
       "      <td>2011-07-19</td>\n",
       "      <td>2011-06-22</td>\n",
       "      <td>failed</td>\n",
       "      <td>5</td>\n",
       "      <td>US</td>\n",
       "      <td>155.0</td>\n",
       "      <td>1500.00</td>\n",
       "      <td>27</td>\n",
       "      <td>1</td>\n",
       "    </tr>\n",
       "    <tr>\n",
       "      <th>287640</th>\n",
       "      <td>378659</td>\n",
       "      <td>Narrative Film</td>\n",
       "      <td>Film &amp; Video</td>\n",
       "      <td>USD</td>\n",
       "      <td>2010-08-16</td>\n",
       "      <td>2010-07-01</td>\n",
       "      <td>failed</td>\n",
       "      <td>1</td>\n",
       "      <td>US</td>\n",
       "      <td>20.0</td>\n",
       "      <td>15000.00</td>\n",
       "      <td>46</td>\n",
       "      <td>0</td>\n",
       "    </tr>\n",
       "    <tr>\n",
       "      <th>287641</th>\n",
       "      <td>378660</td>\n",
       "      <td>Technology</td>\n",
       "      <td>Technology</td>\n",
       "      <td>USD</td>\n",
       "      <td>2016-02-13</td>\n",
       "      <td>2016-01-13</td>\n",
       "      <td>failed</td>\n",
       "      <td>6</td>\n",
       "      <td>US</td>\n",
       "      <td>200.0</td>\n",
       "      <td>15000.00</td>\n",
       "      <td>31</td>\n",
       "      <td>0</td>\n",
       "    </tr>\n",
       "    <tr>\n",
       "      <th>287642</th>\n",
       "      <td>378661</td>\n",
       "      <td>Performance Art</td>\n",
       "      <td>Art</td>\n",
       "      <td>USD</td>\n",
       "      <td>2011-08-16</td>\n",
       "      <td>2011-07-19</td>\n",
       "      <td>failed</td>\n",
       "      <td>17</td>\n",
       "      <td>US</td>\n",
       "      <td>524.0</td>\n",
       "      <td>2000.00</td>\n",
       "      <td>28</td>\n",
       "      <td>1</td>\n",
       "    </tr>\n",
       "  </tbody>\n",
       "</table>\n",
       "<p>287643 rows × 13 columns</p>\n",
       "</div>"
      ],
      "text/plain": [
       "        Unnamed: 0         category main_category currency    deadline  \\\n",
       "0                1           Poetry    Publishing      GBP  2015-10-09   \n",
       "1                2   Narrative Film  Film & Video      USD  2017-11-01   \n",
       "2                4            Music         Music      USD  2012-04-16   \n",
       "3                5     Film & Video  Film & Video      USD  2015-08-29   \n",
       "4                7             Food          Food      USD  2014-12-21   \n",
       "...            ...              ...           ...      ...         ...   \n",
       "287638      378656           Poetry    Publishing      CAD  2014-09-20   \n",
       "287639      378658   Narrative Film  Film & Video      USD  2011-07-19   \n",
       "287640      378659   Narrative Film  Film & Video      USD  2010-08-16   \n",
       "287641      378660       Technology    Technology      USD  2016-02-13   \n",
       "287642      378661  Performance Art           Art      USD  2011-08-16   \n",
       "\n",
       "          launched       state  backers country  usd_pledged  usd_goal  \\\n",
       "0       2015-08-11      failed        0      GB          0.0   1533.95   \n",
       "1       2017-09-02      failed       15      US       2421.0  30000.00   \n",
       "2       2012-03-17      failed        1      US          1.0   5000.00   \n",
       "3       2015-07-04    canceled       14      US       1283.0  19500.00   \n",
       "4       2014-12-01  successful       16      US       1205.0   1000.00   \n",
       "...            ...         ...      ...     ...          ...       ...   \n",
       "287638  2014-08-06    canceled        0      CA          0.0   4949.60   \n",
       "287639  2011-06-22      failed        5      US        155.0   1500.00   \n",
       "287640  2010-07-01      failed        1      US         20.0  15000.00   \n",
       "287641  2016-01-13      failed        6      US        200.0  15000.00   \n",
       "287642  2011-07-19      failed       17      US        524.0   2000.00   \n",
       "\n",
       "        launch_gap  cluster  \n",
       "0               59        3  \n",
       "1               60        0  \n",
       "2               30        1  \n",
       "3               56        0  \n",
       "4               20        1  \n",
       "...            ...      ...  \n",
       "287638          45        3  \n",
       "287639          27        1  \n",
       "287640          46        0  \n",
       "287641          31        0  \n",
       "287642          28        1  \n",
       "\n",
       "[287643 rows x 13 columns]"
      ]
     },
     "execution_count": 27,
     "metadata": {},
     "output_type": "execute_result"
    }
   ],
   "source": [
    "ks2018_clusters"
   ]
  },
  {
   "cell_type": "markdown",
   "metadata": {},
   "source": [
    "## Exporting the final dataframe as csv"
   ]
  },
  {
   "cell_type": "code",
   "execution_count": 28,
   "metadata": {
    "execution": {
     "iopub.execute_input": "2022-04-13T22:31:59.301233Z",
     "iopub.status.busy": "2022-04-13T22:31:59.300867Z",
     "iopub.status.idle": "2022-04-13T22:32:02.065003Z",
     "shell.execute_reply": "2022-04-13T22:32:02.063811Z",
     "shell.execute_reply.started": "2022-04-13T22:31:59.301194Z"
    }
   },
   "outputs": [],
   "source": [
    "# Exporting the dataset. \n",
    "# ks2018_clusters.to_csv('F://Distributed Data Analysis CS5811/Assignment/data/ks2018_clustered.csv') \n",
    "ks2018_clusters.to_csv('ks2018_clustered.csv') "
   ]
  },
  {
   "cell_type": "markdown",
   "metadata": {},
   "source": [
    "## Closing the cluster and shutting down the client"
   ]
  },
  {
   "cell_type": "code",
   "execution_count": 29,
   "metadata": {
    "execution": {
     "iopub.execute_input": "2022-04-13T22:35:01.793581Z",
     "iopub.status.busy": "2022-04-13T22:35:01.792953Z",
     "iopub.status.idle": "2022-04-13T22:35:02.995435Z",
     "shell.execute_reply": "2022-04-13T22:35:02.994104Z",
     "shell.execute_reply.started": "2022-04-13T22:35:01.793518Z"
    }
   },
   "outputs": [
    {
     "data": {
      "text/plain": [
       "<bound method Client.shutdown of <Client: not connected>>"
      ]
     },
     "execution_count": 29,
     "metadata": {},
     "output_type": "execute_result"
    }
   ],
   "source": [
    "cluster.close()\n",
    "client.close()\n",
    "client.shutdown\n"
   ]
  },
  {
   "cell_type": "code",
   "execution_count": null,
   "metadata": {},
   "outputs": [],
   "source": []
  }
 ],
 "metadata": {
  "kernelspec": {
   "display_name": "Python 3",
   "language": "python",
   "name": "python3"
  },
  "language_info": {
   "codemirror_mode": {
    "name": "ipython",
    "version": 3
   },
   "file_extension": ".py",
   "mimetype": "text/x-python",
   "name": "python",
   "nbconvert_exporter": "python",
   "pygments_lexer": "ipython3",
   "version": "3.8.8"
  }
 },
 "nbformat": 4,
 "nbformat_minor": 4
}
